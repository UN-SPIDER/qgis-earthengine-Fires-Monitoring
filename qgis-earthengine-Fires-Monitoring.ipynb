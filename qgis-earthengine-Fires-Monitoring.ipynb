{
 "cells": [
  {
   "cell_type": "markdown",
   "metadata": {},
   "source": [
    "<img src='./IMG/S_2_fires.png' alt='Logo Head_' align='center' width='99%'></img>\n",
    "<br>\n",
    "<img src='./IMG/header_1.png' alt='Logo UNSPIDER' align='left' width='50%'></img>\n",
    "<br>"
   ]
  },
  {
   "cell_type": "markdown",
   "metadata": {},
   "source": [
    "# FOREST FIRE MONITORING ON QGIS-EARTHENGINE-PLUGIN INTEGRATES GOOGLE EARTH ENGINE AND QGIS USING PYTHON API"
   ]
  },
  {
   "cell_type": "markdown",
   "metadata": {},
   "source": [
    "##\t1. Integrates Google Earth Engine and QGIS using Python API for Fires Monitoring"
   ]
  },
  {
   "cell_type": "markdown",
   "metadata": {},
   "source": [
    "<a href=\"https://colab.research.google.com/github/Alexanderariza/qgis-earthengine-Fires-Monitoring/blob/master/qgis-earthengine-Fires-Monitoring.ipynb\"><img src='./IMG/COLAB.svg' alt='Logo CO' align='left' width='10%'></img>\n",
    "<br>\n",
    "\n",
    "<a href=\"https://nbviewer.jupyter.org/github/Alexanderariza/qgis-earthengine-Fires-Monitoring/blob/master/qgis-earthengine-Fires-Monitoring.ipynb\"><img src='./IMG/NT_vie.svg' alt='NT_VW' align='left' width='10%'></img>\n",
    "<br>"
   ]
  },
  {
   "cell_type": "markdown",
   "metadata": {},
   "source": [
    "###\tInstallation\n",
    "The plugin can be installed from the **QGIS** Plugin Repository as any other plugin. It may take some time install (~30-60 sec) due to EE dependencies included in the distribution."
   ]
  },
  {
   "cell_type": "markdown",
   "metadata": {},
   "source": [
    "<div class=\"alert alert-block alert-success\" align=\"left\">\n",
    "<b><i>  \"Warning: Update local installations to v0.1.231 or greater. Earlier versions are not compatible with recent changes to the Earth Engine backend.\n",
    "Check version from Python:\"</i></b>\n",
    "</div>"
   ]
  },
  {
   "cell_type": "code",
   "execution_count": 21,
   "metadata": {},
   "outputs": [
    {
     "name": "stdout",
     "output_type": "stream",
     "text": [
      "0.1.226\n"
     ]
    }
   ],
   "source": [
    "import ee\n",
    "print(ee.__version__)"
   ]
  },
  {
   "cell_type": "markdown",
   "metadata": {},
   "source": [
    "Next we install the Google Earth Engine plugin for **QGIS**. To do this, we must go to the top menu of QGIS and click on (`Add-ons>`) Manage and install add-ons ... In the search box we type **\"Google Earth\"**, select the plugin and install it:"
   ]
  },
  {
   "cell_type": "markdown",
   "metadata": {},
   "source": [
    "<img src='./IMG/qgis_gee_1.png' alt='GEE plugin' align='center' width='99%'></img>\n",
    "<br>"
   ]
  },
  {
   "cell_type": "markdown",
   "metadata": {},
   "source": [
    "The user needs to have an active **Google Earth Engine (EE)** account to use the plugin. If you don’t have one - please sign-up [**here:**](https://earthengine.google.com/signup/) https://earthengine.google.com/signup/\n",
    "\n",
    "After the installation, the plugin checks if the user is authenticated to use the **GEE**. If this is not the case - the user will be asked to authenticate.\n",
    "Once installed and authenticated, the plugin can be accessed from the (`*QGIS Python Code Editor*`) to write and execute EE scripts. There is not UI support available yet, you will have to write code!\n",
    "To test if the plugin is installed and authenticated properly - type the following in the QGIS Python Console:\n"
   ]
  },
  {
   "cell_type": "code",
   "execution_count": null,
   "metadata": {},
   "outputs": [],
   "source": [
    ">>> import ee\n",
    ">>> print(ee.String('Hello World from EE!').getInfo())\n",
    "Hello World from EE!"
   ]
  },
  {
   "cell_type": "code",
   "execution_count": null,
   "metadata": {},
   "outputs": [],
   "source": [
    "A more advanced script may look like this:"
   ]
  },
  {
   "cell_type": "markdown",
   "metadata": {},
   "source": [
    "<img src='./IMG/qgis_gee_2.png' alt='GEE console' align='center' width='75%'></img>\n",
    "<br>"
   ]
  },
  {
   "cell_type": "markdown",
   "metadata": {},
   "source": [
    "### Map"
   ]
  },
  {
   "cell_type": "markdown",
   "metadata": {},
   "source": [
    "The plugin implements most of the (`Map.*`) functionality typically used in the **Code Editor**. Note, that no UI or Layers functionality is supported right now."
   ]
  },
  {
   "cell_type": "markdown",
   "metadata": {},
   "source": [
    "### Importing plugin"
   ]
  },
  {
   "cell_type": "markdown",
   "metadata": {},
   "source": [
    "For most of the EE scripts, the following two imports must be included:"
   ]
  },
  {
   "cell_type": "code",
   "execution_count": 16,
   "metadata": {
    "scrolled": true
   },
   "outputs": [
    {
     "ename": "ModuleNotFoundError",
     "evalue": "No module named 'ee_plugin'",
     "output_type": "error",
     "traceback": [
      "\u001b[1;31m---------------------------------------------------------------------------\u001b[0m",
      "\u001b[1;31mModuleNotFoundError\u001b[0m                       Traceback (most recent call last)",
      "\u001b[1;32m<ipython-input-16-079b730366b6>\u001b[0m in \u001b[0;36m<module>\u001b[1;34m\u001b[0m\n\u001b[0;32m      1\u001b[0m \u001b[1;32mimport\u001b[0m \u001b[0mee\u001b[0m\u001b[1;33m\u001b[0m\u001b[1;33m\u001b[0m\u001b[0m\n\u001b[1;32m----> 2\u001b[1;33m \u001b[1;32mfrom\u001b[0m \u001b[0mee_plugin\u001b[0m \u001b[1;32mimport\u001b[0m \u001b[0mMap\u001b[0m\u001b[1;33m\u001b[0m\u001b[1;33m\u001b[0m\u001b[0m\n\u001b[0m\u001b[0;32m      3\u001b[0m \u001b[1;32mimport\u001b[0m \u001b[0mee\u001b[0m\u001b[1;33m\u001b[0m\u001b[1;33m\u001b[0m\u001b[0m\n",
      "\u001b[1;31mModuleNotFoundError\u001b[0m: No module named 'ee_plugin'"
     ]
    }
   ],
   "source": [
    "import ee\n",
    "from ee_plugin import Map\n",
    "import ee"
   ]
  },
  {
   "cell_type": "markdown",
   "metadata": {},
   "source": [
    "<div class=\"alert alert-block alert-success\" align=\"left\">\n",
    "<b><i>  \"After that, the (`Map.*`) functions can be used in a similar way to the official EE Code Editor\n",
    "The code above will query Earth Engine for an image and will add it as an XYZ tile layer to the QGIS Canvas.\"</i></b>\n",
    "</div>"
   ]
  },
  {
   "cell_type": "markdown",
   "metadata": {},
   "source": [
    "The code above will query Earth Engine for an image and will add it as an XYZ tile layer to the QGIS Canvas.\n",
    "\n",
    "**Note:** that QGIS projects containing EE map layers can be also saved, in this case, the code required to connect to EE is stored in a QGIS project and is used to re-initialize these layers when the project is loaded. Currently, this works only if (`ee_plugin*`) is installed in the QGIS where these layers are loaded."
   ]
  },
  {
   "cell_type": "markdown",
   "metadata": {},
   "source": [
    "##\t2. Mapping Burn area and fire severity on Google Earth Engine and QGIS using Python API example"
   ]
  },
  {
   "cell_type": "markdown",
   "metadata": {},
   "source": [
    "This repository is developed as a Python example of the Google Earth Engine API, to monitor the burning area and map the severity of the fire Over Tunisia in the 2020 Season."
   ]
  },
  {
   "cell_type": "markdown",
   "metadata": {},
   "source": [
    "### Add QGIS Basemaps"
   ]
  },
  {
   "cell_type": "markdown",
   "metadata": {},
   "source": [
    "* Open the Python console in QGIS and load the Python script (`Basemaps/qgis_basemaps.py*`) into the QGIS Python Editor.\n",
    "* Click the Run script button on the Python Editor to execute the script. This will add many basesmaps as *XYZ tiles to QGIS*. \n",
    "* Select and double click any basemap under XYZ Ttiles to be added to QGIS Canvas. See the screenshot below.\n",
    "Alternatively, you can install the QGIS QuickMapServices plugin. After installing the plugin, go to QGIS -- Web --QuickMapServices -- Settings -- More services -- Get contributed pack -- Save."
   ]
  },
  {
   "cell_type": "markdown",
   "metadata": {},
   "source": [
    "<br>\n",
    "<div style='text-align:center;'>\n",
    "<figure><img src='./IMG/basemap.png' width='40%'/>\n",
    "    <figcaption><i> Inserting a basemap on QGIS</i></figcaption>\n",
    "</figure>\n",
    "</div>"
   ]
  },
  {
   "cell_type": "markdown",
   "metadata": {},
   "source": [
    "### Study area"
   ]
  },
  {
   "cell_type": "markdown",
   "metadata": {},
   "source": [
    "This example focuses on Tunisia, for which we will use the LSIB line vector file and World Vector Shorelines (WVS) layer from the **National Geospatial-Intelligence Agency (NGA)**. \n",
    "\n",
    "This is a data set that has the regions in each country with a single characteristic. Furthermore, it excludes medium and small islands. The resulting simplified boundary lines rarely drift more than 100 meters from the detailed LSIB lines. \n",
    "\n",
    "This funtion add feature of theastudy area = (Tunisia):"
   ]
  },
  {
   "cell_type": "code",
   "execution_count": null,
   "metadata": {},
   "outputs": [],
   "source": [
    "countries = ee.FeatureCollection(\"USDOS/LSIB_SIMPLE/2017\")\n",
    "TUN = countries.filter(ee.Filter.eq('country_na', 'Tunisia'))"
   ]
  },
  {
   "cell_type": "markdown",
   "metadata": {},
   "source": [
    "* Create an empty image into which to paint the features, cast to byte:"
   ]
  },
  {
   "cell_type": "code",
   "execution_count": null,
   "metadata": {},
   "outputs": [],
   "source": [
    "empty = ee.Image().byte()"
   ]
  },
  {
   "cell_type": "markdown",
   "metadata": {},
   "source": [
    "* Paint all the polygon edges with the same number and 'width', display."
   ]
  },
  {
   "cell_type": "code",
   "execution_count": null,
   "metadata": {},
   "outputs": [],
   "source": [
    "outline = empty.paint(**{\n",
    "  'featureCollection': TUN,\n",
    "  'color': 1,\n",
    "  'width': 1.5\n",
    "})"
   ]
  },
  {
   "cell_type": "markdown",
   "metadata": {},
   "source": [
    "* Add the image to the map using definided color"
   ]
  },
  {
   "cell_type": "code",
   "execution_count": null,
   "metadata": {},
   "outputs": [],
   "source": [
    "Map.addLayer(outline, {'palette': 'FF0000'}, 'Tunisia Limit')"
   ]
  },
  {
   "cell_type": "markdown",
   "metadata": {},
   "source": [
    "<br>\n",
    "<div style='text-align:center;'>\n",
    "<figure><img src='./IMG/qgis_gee_3.png' width='75%'/>\n",
    "    <figcaption><i> Openstreet Map on QGIS</i></figcaption>\n",
    "</figure>\n",
    "</div>"
   ]
  },
  {
   "cell_type": "markdown",
   "metadata": {},
   "source": [
    "* set Map center using coordinates and zoom:"
   ]
  },
  {
   "cell_type": "code",
   "execution_count": null,
   "metadata": {},
   "outputs": [],
   "source": [
    "Map.setCenter(9.346, 35.032, 6)"
   ]
  },
  {
   "cell_type": "markdown",
   "metadata": {},
   "source": [
    "### Sentinel 2 imagen"
   ]
  },
  {
   "cell_type": "markdown",
   "metadata": {},
   "source": [
    "This layer contain the Level-2 data produced by ESA can be found in the collection [COPERNICUS/S2_SR](https://developers.google.com/earth-engine/datasets/catalog/COPERNICUS_S2_SR).\n",
    "\n",
    "Clouds can be mostly removed by using [COPERNICUS/S2_CLOUD_PROBABILITY](https://developers.google.com/earth-engine/datasets/catalog/COPERNICUS_S2_CLOUD_PROBABILITY).\n",
    "\n",
    "For more details on Sentinel-2 radiometric resolution, [see this page](https://earth.esa.int/web/sentinel/user-guides/sentinel-2-msi/resolutions/radiometric).\n",
    "\n",
    "* This funtion add a Sentinel 2 imagen:"
   ]
  },
  {
   "cell_type": "code",
   "execution_count": null,
   "metadata": {},
   "outputs": [],
   "source": [
    "imagen = ee.ImageCollection('COPERNICUS/S2') \\\n",
    "  .filterBounds(TUN) \\\n",
    "  .filterDate('2020-04-15', '2020-08-19').median() \\\n",
    "  .divide(10000) \\\n",
    "  .select(\n",
    "  ['B1', 'B2', 'B3', 'B4', 'B5', 'B6', 'B7', 'B8', 'B8A', 'B11', 'B12'],\n",
    "  ['B01', 'B02', 'B03', 'B04', 'B05', 'B06', 'B07', 'B08', 'B08A', 'B11', 'B12']\n",
    "  )\n",
    "vis = {'bands': ['B12', 'B08', 'B04'], 'min': 0.05, 'max': 0.5}\n",
    "Map.addLayer(imagen, vis, 'Sentinel 2 False color')\n",
    "Map.setCenter(8.7107, 35.2061, 15)"
   ]
  },
  {
   "cell_type": "markdown",
   "metadata": {},
   "source": [
    "<br>\n",
    "<div style='text-align:center;'>\n",
    "<figure><img src='./IMG/qgis_gee_4.png' width='75%'/>\n",
    "    <figcaption><i> Sentinel 2A imagen</i></figcaption>\n",
    "</figure>\n",
    "</div>"
   ]
  },
  {
   "cell_type": "markdown",
   "metadata": {},
   "source": [
    "### FIRMS from MODIS"
   ]
  },
  {
   "cell_type": "markdown",
   "metadata": {},
   "source": [
    "This layer have the Fire Information for Resource Management System (FIRMS) dataset contains the LANCE fire detection product in rasterized form. The near real-time (NRT) active fire locations are processed by LANCE using the standard MODIS MOD14/MYD14 Fire and Thermal Anomalies product. Each active fire location represents the centroid of a 1km pixel that is flagged by the algorithm as containing one or more fires within the pixel. The data are rasterized as follows: for each FIRMS active fire point, a 1km bounding box (BB) is defined; pixels in the MODIS sinusoidal projection that intersect the FIRMS BB are identified; if multiple FIRMS BBs intersect the same pixel, the one with higher confidence is retained; in case of a tie, the brighter one is retained.\n",
    "\n",
    "Additional information can be found [here](https://earthdata.nasa.gov/earth-observation-data/near-real-time/firms/about-firms).\n",
    "\n",
    "* This function gets FIRMS from MODIS imagery for the date of 2020-04-15 to 2020-08-20:"
   ]
  },
  {
   "cell_type": "code",
   "execution_count": null,
   "metadata": {},
   "outputs": [],
   "source": [
    "collection = ee.ImageCollection('FIRMS')\\\n",
    "  .filterBounds(TUN) \\\n",
    "  .select('T21')\\\n",
    "  .filterDate('2020-04-15', '2020-08-20')\\\n",
    "\n",
    "band_viz = {\n",
    "  'min': 325,\n",
    "  'max': 400,\n",
    "  'palette': ['red', 'orange', 'yellow']\n",
    "}\n",
    "\n",
    "Map.addLayer(collection.mean(), band_viz, 'Hot Spots')"
   ]
  },
  {
   "cell_type": "markdown",
   "metadata": {},
   "source": [
    "<br>\n",
    "<div style='text-align:center;'>\n",
    "<figure><img src='./IMG/qgis_gee_5.png' width='75%'/>\n",
    "    <figcaption><i> Fire Information for Resource Management System (FIRMS)</i></figcaption>\n",
    "</figure>\n",
    "</div>"
   ]
  },
  {
   "cell_type": "markdown",
   "metadata": {},
   "source": [
    "### Burn area products"
   ]
  },
  {
   "cell_type": "markdown",
   "metadata": {},
   "source": [
    "Below we add the different burned area products available. the first is the **MODIS Fire_cci Burned Area** pixel product version 5.1 **(FireCCI51)** is a monthly global ~250m spatial resolution dataset containing information on burned area as well as ancillary data. It is based on surface reflectance in the Near Infrared **(NIR)** band from the **MODIS** instrument onboard the Terra satellite, as well as active fire information from the same sensor of the Terra and Aqua satellites.\n",
    "\n",
    "* This funtion Visualize the burn area of FireCCI51 for the year 2019. Then we select (`BurnDate`) to estimated day of the year of the first detection of the burn:"
   ]
  },
  {
   "cell_type": "code",
   "execution_count": null,
   "metadata": {},
   "outputs": [],
   "source": [
    "dataset = ee.ImageCollection('ESA/CCI/FireCCI/5_1')\\\n",
    "                  .filterDate('2019-01-01', '2019-12-30')\n",
    "burnedArea = dataset.select('BurnDate')\n",
    "\n",
    "##Use a circular palette to assign colors to date of first detection\n",
    "baVis = {\n",
    "  'min': 1,\n",
    "  'max': 366,\n",
    "  'palette': [\n",
    "    'ff0000', 'fd4100', 'fb8200', 'f9c400', 'f2ff00', 'b6ff05',\n",
    "    '7aff0a', '3eff0f', '02ff15', '00ff55', '00ff99', '00ffdd',\n",
    "    '00ddff', '0098ff', '0052ff', '0210ff', '3a0dfb', '7209f6',\n",
    "    'a905f1', 'e102ed', 'ff00cc', 'ff0089', 'ff0047', 'ff0004'\n",
    "  ]\n",
    "};\n",
    "maxBA = burnedArea.max()\n",
    "Map.addLayer(maxBA, baVis, 'Burned Area CCI Fire 2019')"
   ]
  },
  {
   "cell_type": "markdown",
   "metadata": {},
   "source": [
    "<br>\n",
    "<div style='text-align:center;'>\n",
    "<figure><img src='./IMG/qgis_gee_6.png' width='75%'/>\n",
    "    <figcaption><i> Burned Area CCI Fire 2019</i></figcaption>\n",
    "</figure>\n",
    "</div>"
   ]
  },
  {
   "cell_type": "markdown",
   "metadata": {},
   "source": [
    "The next burn area product is the **MOD14A1 V6** dataset provides daily fire mask composites at **1km** resolution derived from the MODIS 4- and 11-micrometer radiances. The fire detection strategy is based on absolute detection of a fire (when the fire strength is sufficient to detect), and on detection relative to its background (to account for variability of the surface temperature and reflection by sunlight). The product distinguishes between fire, no fire and no observation.\n",
    "\n",
    "For more information see the [MOD14 user guide](https://lpdaac.usgs.gov/sites/default/files/public/product_documentation/mod14_user_guide.pdf).\n",
    "\n",
    "* This funtion Visualize the **MODIS/006/MOD14A1**:"
   ]
  },
  {
   "cell_type": "code",
   "execution_count": null,
   "metadata": {},
   "outputs": [],
   "source": [
    "collection2 = ee.ImageCollection('MODIS/006/MOD14A1')\\\n",
    ".filterDate('2020-04-15', '2020-08-20')\\\n",
    "  \n",
    "fireMaskVis = {\n",
    "  'min': 0.0,\n",
    "  'max': 6000.0,\n",
    "  'bands': ['MaxFRP', 'FireMask', 'FireMask']\n",
    "  }\n",
    "\n",
    "Map.addLayer(collection2.mean(), fireMaskVis, 'MOD14A')"
   ]
  },
  {
   "cell_type": "markdown",
   "metadata": {},
   "source": [
    "<br>\n",
    "<div style='text-align:center;'>\n",
    "<figure><img src='./IMG/qgis_gee_7.png' width='75%'/>\n",
    "    <figcaption><i> MOD14A1 V6 MODIS Burned Area</i></figcaption>\n",
    "</figure>\n",
    "</div>"
   ]
  },
  {
   "cell_type": "markdown",
   "metadata": {},
   "source": [
    "The next burn area product is the **MCD64A1 Version 6**, a Burned Area of Terra and Aqua combined data product is a monthly, global gridded 500m product containing per-pixel burned-area and quality information. The MCD64A1 burned-area mapping approach employs 500m MODIS Surface Reflectance imagery coupled with **1km** MODIS active fire observations. The algorithm uses a burn sensitive **vegetation index (VI)** to create dynamic thresholds that are applied to the composite data. The VI is derived from MODIS shortwave infrared atmospherically corrected surface reflectance bands 5 and 7 with a measure of temporal texture. The algorithm identifies the date of burn for the 500m grid cells within each individual **MODIS** tile. The date is encoded in a single data layer as the ordinal day of the calendar year on which the burn occurred, with values assigned to unburned land pixels and additional special values reserved for missing data and water grid cells.\n",
    "\n",
    "* The next funtion Visualize the **MCD64A1.006** MODIS Burned Area Monthly Global 500m. Show the Burn day of year. Possible values: 0 (unburned), 1-366 (approximate Julian day of burning):"
   ]
  },
  {
   "cell_type": "code",
   "execution_count": null,
   "metadata": {},
   "outputs": [],
   "source": [
    "#This funtion add a MCD64A1.006 MODIS Burned Area Monthly Global 500m\n",
    "collection3 = ee.ImageCollection('MODIS/006/MCD64A1')\\\n",
    ".select('BurnDate')\\\n",
    ".filterDate('2020-01-01', '2020-06-01')\\\n",
    "\n",
    "fireMaskVis2 = {\n",
    "  'min': 30.0,\n",
    "  'max': 341.0,\n",
    "  'palette': ['4e0400', '951003', 'c61503', 'ff1901']\n",
    "  }\n",
    "\n",
    "Map.addLayer(collection3.mean(), fireMaskVis2, 'MCD64A1')"
   ]
  },
  {
   "cell_type": "markdown",
   "metadata": {},
   "source": [
    "### Burn severity mapping"
   ]
  },
  {
   "cell_type": "markdown",
   "metadata": {},
   "source": [
    "Following is a mapping of the severity of fires using the normalized index of burned area **(NBR)**, which is applied in images of before and after a fire. To calculate its differential value or **(dNBR)**, the severity is derived, showing the area affected by the fire. The images used in this process come from the Sentinel-2 platform.\n",
    "\n",
    "* This function gets pre NBR from Sentinel 2 imagery:"
   ]
  },
  {
   "cell_type": "code",
   "execution_count": null,
   "metadata": {},
   "outputs": [],
   "source": [
    "imagen1 = ee.ImageCollection('COPERNICUS/S2') \\\n",
    "  .filterBounds(TUN) \\\n",
    "  .filterDate('2020-04-22', '2020-05-23').median() \\\n",
    "  .divide(10000) \\\n",
    "  .select(\n",
    "  ['B1', 'B2', 'B3', 'B4', 'B5', 'B6', 'B7', 'B8', 'B8A', 'B11', 'B12'],\n",
    "  ['B01', 'B02', 'B03', 'B04', 'B05', 'B06', 'B07', 'B08', 'B08A', 'B11', 'B12']\n",
    "  )\n",
    "vis2 = {'bands': ['B12', 'B08', 'B04'], 'min': 0.05, 'max': 0.5}\n",
    "Map.addLayer(imagen1, vis2, 'Sentinel pre')"
   ]
  },
  {
   "cell_type": "markdown",
   "metadata": {},
   "source": [
    "<br>\n",
    "<div style='text-align:center;'>\n",
    "<figure><img src='./IMG/qgis_gee_8.png' width='75%'/>\n",
    "    <figcaption><i> Sentinel 2A Pre fire imagen</i></figcaption>\n",
    "</figure>\n",
    "</div>"
   ]
  },
  {
   "cell_type": "markdown",
   "metadata": {},
   "source": [
    "* Next compute the NBR from the pre scene:"
   ]
  },
  {
   "cell_type": "code",
   "execution_count": null,
   "metadata": {},
   "outputs": [],
   "source": [
    "nbr1 = imagen1.select('B08').subtract(imagen1.select('B11')) \\\n",
    "        .divide(imagen1.select('B08').add(imagen1.select('B11')))\n",
    "\n",
    "nbrParams = {'palette': ['#d73027', '#f46d43', '#fdae61',\n",
    "                          '#fee08b', '#d9ef8b', '#a6d96a', '#66bd63', '#1a9850']}\n",
    "\n",
    "Map.addLayer(nbr1, nbrParams, 'NBR PRE')"
   ]
  },
  {
   "cell_type": "markdown",
   "metadata": {},
   "source": [
    "<br>\n",
    "<div style='text-align:center;'>\n",
    "<figure><img src='./IMG/qgis_gee_9.png' width='75%'/>\n",
    "    <figcaption><i> NBR Pre fire imagen</i></figcaption>\n",
    "</figure>\n",
    "</div>"
   ]
  },
  {
   "cell_type": "markdown",
   "metadata": {},
   "source": [
    "* This function gets the post NBR from Sentinel 2 imagery:"
   ]
  },
  {
   "cell_type": "code",
   "execution_count": null,
   "metadata": {},
   "outputs": [],
   "source": [
    "imagen2 = ee.ImageCollection('COPERNICUS/S2') \\\n",
    "  .filterBounds(TUN) \\\n",
    "  .filterDate('2020-07-01', '2020-07-23').median() \\\n",
    "  .divide(10000) \\\n",
    "  .select(\n",
    "  ['B1', 'B2', 'B3', 'B4', 'B5', 'B6', 'B7', 'B8', 'B8A', 'B11', 'B12'],\n",
    "  ['B01', 'B02', 'B03', 'B04', 'B05', 'B06', 'B07', 'B08', 'B08A', 'B11', 'B12']\n",
    "  )\n",
    "vis3 = {'bands': ['B12', 'B08', 'B04'], 'min': 0.05, 'max': 0.5}\n",
    "Map.addLayer(imagen2, vis3, 'Sentinel post')"
   ]
  },
  {
   "cell_type": "markdown",
   "metadata": {},
   "source": [
    "<br>\n",
    "<div style='text-align:center;'>\n",
    "<figure><img src='./IMG/qgis_gee_10.png' width='75%'/>\n",
    "    <figcaption><i> Sentinel 2 post fire imagen</i></figcaption>\n",
    "</figure>\n",
    "</div>"
   ]
  },
  {
   "cell_type": "markdown",
   "metadata": {},
   "source": [
    "* Next Compute the NBR from the pre scene:"
   ]
  },
  {
   "cell_type": "code",
   "execution_count": null,
   "metadata": {},
   "outputs": [],
   "source": [
    "nbr2 = imagen2.select('B08').subtract(imagen2.select('B11')) \\\n",
    "        .divide(imagen2.select('B08').add(imagen2.select('B11')))\n",
    "\n",
    "nbrParams2 = {'palette': ['#d73027', '#f46d43', '#fdae61',\n",
    "                          '#fee08b', '#d9ef8b', '#a6d96a', '#66bd63', '#1a9850']}\n",
    "\n",
    "Map.addLayer(nbr2, nbrParams2, 'NBR POST')"
   ]
  },
  {
   "cell_type": "markdown",
   "metadata": {},
   "source": [
    "<br>\n",
    "<div style='text-align:center;'>\n",
    "<figure><img src='./IMG/qgis_gee_11.png' width='75%'/>\n",
    "    <figcaption><i> NBR Post fire imagen</i></figcaption>\n",
    "</figure>\n",
    "</div>"
   ]
  },
  {
   "cell_type": "markdown",
   "metadata": {},
   "source": [
    "* This funtion Compute the difference burn index dNBR image:"
   ]
  },
  {
   "cell_type": "code",
   "execution_count": null,
   "metadata": {},
   "outputs": [],
   "source": [
    "dNBRDifference = (nbr2.subtract(nbr1)).multiply(1000)\n",
    "difParams = {'min': -2000, 'max': 2000, 'palette': ['ffffff', 'FF0000', 'ff641b', 'ffaf38', 'fff70b', '0ae042', 'acbe4d', '7a8737' ]}\n",
    "\n",
    "Map.addLayer(dNBRDifference, difParams, 'dNBR')"
   ]
  },
  {
   "cell_type": "markdown",
   "metadata": {},
   "source": [
    "<br>\n",
    "<div style='text-align:center;'>\n",
    "<figure><img src='./IMG/qgis_gee_12.png' width='75%'/>\n",
    "    <figcaption><i> dNBR imagen</i></figcaption>\n",
    "</figure>\n",
    "</div>"
   ]
  },
  {
   "cell_type": "markdown",
   "metadata": {},
   "source": [
    "* To end and add the severity map with the different ranges, define and apply the diferents thresholds to the image:"
   ]
  },
  {
   "cell_type": "code",
   "execution_count": null,
   "metadata": {},
   "outputs": [],
   "source": [
    "sld_intervals = \\\n",
    "  '<RasterSymbolizer>' + \\\n",
    "    '<ColorMap type=\"intervals\" extended=\"false\" >' + \\\n",
    "      '<ColorMapEntry color=\"#ffffff\" quantity=\"-500\" label=\"-500\"/>' + \\\n",
    "      '<ColorMapEntry color=\"#7a8737\" quantity=\"-250\" label=\"-250\" />' + \\\n",
    "      '<ColorMapEntry color=\"#acbe4d\" quantity=\"-100\" label=\"-100\" />' + \\\n",
    "      '<ColorMapEntry color=\"#0ae042\" quantity=\"100\" label=\"100\" />' + \\\n",
    "      '<ColorMapEntry color=\"#fff70b\" quantity=\"270\" label=\"270\" />' + \\\n",
    "      '<ColorMapEntry color=\"#ffaf38\" quantity=\"440\" label=\"440\" />' + \\\n",
    "      '<ColorMapEntry color=\"#ff641b\" quantity=\"660\" label=\"660\" />' + \\\n",
    "      '<ColorMapEntry color=\"#FF0000\" quantity=\"2000\" label=\"2000\" />' + \\\n",
    "    '</ColorMap>' + \\\n",
    "  '</RasterSymbolizer>';\n",
    "# Add the image to the map using the color interval schemes.\n",
    "Map.addLayer(dNBRDifference.sldStyle(sld_intervals), {}, 'dNBR intervals');"
   ]
  },
  {
   "cell_type": "markdown",
   "metadata": {},
   "source": [
    "<br>\n",
    "<div style='text-align:center;'>\n",
    "<figure><img src='./IMG/qgis_gee_13.png' width='75%'/>\n",
    "    <figcaption><i> dNBR severity classes imagen</i></figcaption>\n",
    "</figure>\n",
    "</div>"
   ]
  }
 ],
 "metadata": {
  "kernelspec": {
   "display_name": "Python 3",
   "language": "python",
   "name": "python3"
  },
  "language_info": {
   "codemirror_mode": {
    "name": "ipython",
    "version": 3
   },
   "file_extension": ".py",
   "mimetype": "text/x-python",
   "name": "python",
   "nbconvert_exporter": "python",
   "pygments_lexer": "ipython3",
   "version": "3.7.7"
  }
 },
 "nbformat": 4,
 "nbformat_minor": 4
}
